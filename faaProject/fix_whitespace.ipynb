{
 "cells": [
  {
   "cell_type": "code",
   "execution_count": 33,
   "id": "5afc436a-75ab-4502-941c-3067cdd8b0c6",
   "metadata": {},
   "outputs": [],
   "source": [
    "import pandas as pd\n",
    "import numpy as np\n",
    "from nltk.tokenize import word_tokenize\n",
    "from nltk import pos_tag\n",
    "from nltk.corpus import stopwords\n",
    "from nltk.stem import WordNetLemmatizer\n",
    "from sklearn.preprocessing import LabelEncoder\n",
    "from collections import defaultdict\n",
    "from nltk.corpus import wordnet as wn\n",
    "from sklearn.feature_extraction.text import TfidfVectorizer\n",
    "from sklearn import model_selection, naive_bayes, svm\n",
    "from sklearn.metrics import accuracy_score\n",
    "import matplotlib.pyplot as plt\n",
    "from matplotlib.backends.backend_pdf import PdfPages\n",
    "import nltk\n",
    "#nltk.download('all')"
   ]
  },
  {
   "cell_type": "code",
   "execution_count": 69,
   "id": "692bbe9e-d29a-40d0-9a51-cb52cfd27dba",
   "metadata": {},
   "outputs": [],
   "source": [
    "#Read in CSV Datafiledata\n",
    "df = pd.read_csv(f\"./Subsets/Maintenance_Text_data.csv\",encoding='latin-1', header=0)\n",
    "df.dropna(subset=['c119', 'remark'],inplace = True)"
   ]
  },
  {
   "cell_type": "code",
   "execution_count": 70,
   "id": "cd42504f-8730-4958-b207-cff46f750d4c",
   "metadata": {},
   "outputs": [],
   "source": [
    "df['remark'] = df['remark'].str.replace(' R ', ' right ')\n",
    "df['c119'] = df['c119'].str.replace(' R ', ' right ')\n",
    "\n",
    "#df['c119'] = df['c119'].str.replace('(', '')\n",
    "#df['c119'] = df['c119'].str.replace(')', '')"
   ]
  },
  {
   "cell_type": "code",
   "execution_count": 71,
   "id": "b05f01df-e287-4ed3-a24c-86ee08af5002",
   "metadata": {},
   "outputs": [
    {
     "data": {
      "text/plain": [
       "Index(['Unnamed: 0', 'c5', 'c119', 'c78', 'c80', 'c86', 'c77', 'c79', 'c81',\n",
       "       'c85', 'c87', 'c89', 'c91', 'c93', 'c95', 'c97', 'c99', 'c101', 'c103',\n",
       "       'c105', 'c107', 'c109', 'c131', 'c133', 'c135', 'c137', 'c146', 'c148',\n",
       "       'c150', 'c154', 'c161', 'c163', 'c183', 'c191', 'remark'],\n",
       "      dtype='object')"
      ]
     },
     "execution_count": 71,
     "metadata": {},
     "output_type": "execute_result"
    }
   ],
   "source": [
    "df.columns"
   ]
  },
  {
   "cell_type": "code",
   "execution_count": 72,
   "id": "b97e4c86-c99a-451a-9b80-2ca8d81ef644",
   "metadata": {},
   "outputs": [],
   "source": [
    "df.drop(columns=['Unnamed: 0'], inplace=True)\n",
    "df.to_csv('./Subsets/Maintenance_Text_data.csv')"
   ]
  },
  {
   "cell_type": "code",
   "execution_count": null,
   "id": "d2220f43-11a1-410d-8b58-0e8ba689e46a",
   "metadata": {},
   "outputs": [],
   "source": []
  }
 ],
 "metadata": {
  "kernelspec": {
   "display_name": "Python 3",
   "language": "python",
   "name": "python3"
  },
  "language_info": {
   "codemirror_mode": {
    "name": "ipython",
    "version": 3
   },
   "file_extension": ".py",
   "mimetype": "text/x-python",
   "name": "python",
   "nbconvert_exporter": "python",
   "pygments_lexer": "ipython3",
   "version": "3.9.15"
  }
 },
 "nbformat": 4,
 "nbformat_minor": 5
}
