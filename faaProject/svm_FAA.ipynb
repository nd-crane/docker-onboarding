{
 "cells": [
  {
   "cell_type": "code",
   "execution_count": 1,
   "id": "c97c8a4b-5128-477e-b62d-374391648c81",
   "metadata": {
    "tags": []
   },
   "outputs": [],
   "source": [
    "import pandas as pd\n",
    "import numpy as np\n",
    "from nltk.tokenize import word_tokenize\n",
    "from nltk import pos_tag\n",
    "from nltk.corpus import stopwords\n",
    "from nltk.stem import WordNetLemmatizer\n",
    "from sklearn.preprocessing import LabelEncoder\n",
    "from collections import defaultdict\n",
    "from nltk.corpus import wordnet as wn\n",
    "from sklearn.feature_extraction.text import TfidfVectorizer\n",
    "from sklearn import model_selection, naive_bayes, svm\n",
    "from sklearn.metrics import accuracy_score\n",
    "from itertools import combinations\n",
    "import nltk\n",
    "\n",
    "pd.options.mode.chained_assignment = None"
   ]
  },
  {
   "cell_type": "code",
   "execution_count": 2,
   "id": "ac27a881-d3bd-495b-8562-b49266315840",
   "metadata": {},
   "outputs": [],
   "source": [
    "def SVM_result(Train_X_Tfidf,Train_Y, Test_X_Tfidf, Test_Y):\n",
    "    # fit the training dataset on the classifier\n",
    "    SVM = svm.SVC(C=1.0, kernel='linear', degree=3, gamma='auto')\n",
    "    SVM.fit(Train_X_Tfidf,Train_Y)\n",
    "    # predict the labels on validation dataset\n",
    "    predictions_SVM = SVM.predict(Test_X_Tfidf)\n",
    "\n",
    "    # Use accuracy_score function to get the accuracy\n",
    "    #print(\"SVM Accuracy Score -> \",accuracy_score(predictions_SVM, Test_Y)*100)\n",
    "    return accuracy_score(predictions_SVM, Test_Y)*100"
   ]
  },
  {
   "cell_type": "code",
   "execution_count": 3,
   "id": "e76809a8-96b9-428d-a27f-84fc3e8f45a3",
   "metadata": {},
   "outputs": [],
   "source": [
    "def NB_result(Train_X_Tfidf,Train_Y, Test_X_Tfidf, Test_Y):\n",
    "    # fit the training dataset on the NB classifier\n",
    "    Naive = naive_bayes.MultinomialNB()\n",
    "    Naive.fit(Train_X_Tfidf,Train_Y)# predict the labels on validation dataset\n",
    "    predictions_NB = Naive.predict(Test_X_Tfidf)# Use accuracy_score function to get the accuracy\n",
    "    #print(\"Naive Bayes Accuracy Score -> \",accuracy_score(predictions_NB, Test_Y)*100)\n",
    "    return accuracy_score(predictions_NB, Test_Y)*100"
   ]
  },
  {
   "cell_type": "code",
   "execution_count": 4,
   "id": "00385e31-7d4e-4f19-a102-aa53c631421d",
   "metadata": {},
   "outputs": [],
   "source": [
    "def run_model(Corpus, row_name):\n",
    "    # Step - a : Remove blank rows if any.\n",
    "    Corpus[row_name].dropna(inplace=True)\n",
    "\n",
    "    # Step - b : Change all the text to lower case. This is required as python interprets 'dog' and 'DOG' differently\n",
    "    Corpus[row_name] = [str(entry).lower() for entry in Corpus[row_name]]\n",
    "\n",
    "    # Step - c : Tokenization : In this each entry in the corpus will be broken into set of words\n",
    "    Corpus[row_name]= [word_tokenize(entry) for entry in Corpus[row_name]]\n",
    "\n",
    "    # Step - d : Remove Stop words, Non-Numeric and perfom Word Stemming/Lemmenting.\n",
    "\n",
    "    # WordNetLemmatizer requires Pos tags to understand if the word is noun or verb or adjective etc. By default it is set to Noun\n",
    "    tag_map = defaultdict(lambda : wn.NOUN)\n",
    "    tag_map['J'] = wn.ADJ\n",
    "    tag_map['V'] = wn.VERB\n",
    "    tag_map['R'] = wn.ADV\n",
    "\n",
    "    for index,entry in enumerate(Corpus[row_name]):\n",
    "        # Declaring Empty List to store the words that follow the rules for this step\n",
    "        Final_words = []\n",
    "        # Initializing WordNetLemmatizer()\n",
    "        word_Lemmatized = WordNetLemmatizer()\n",
    "        # pos_tag function below will provide the 'tag' i.e if the word is Noun(N) or Verb(V) or something else.\n",
    "        for word, tag in pos_tag(entry):\n",
    "            # Below condition is to check for Stop words and consider only alphabets\n",
    "            if word not in stopwords.words('english') and word.isalpha():\n",
    "                word_Final = word_Lemmatized.lemmatize(word,tag_map[tag[0]])\n",
    "                Final_words.append(word_Final)\n",
    "        # The final processed set of words for each iteration will be stored in 'text_final'\n",
    "        Corpus.loc[index,'text_final'] = str(Final_words)\n",
    "\n",
    "    Train_X, Test_X, Train_Y, Test_Y = model_selection.train_test_split(Corpus['text_final'],Corpus['c78'],test_size=0.3)\n",
    "    Train_Y = Train_Y.astype(str)\n",
    "    for item in Train_Y:\n",
    "        Test_Y = Test_Y.astype(str)\n",
    "        Train_X = Train_X.astype(str)\n",
    "        Test_X = Test_X.astype(str)\n",
    "    Corpus['text_final'] = Corpus['text_final'].astype(str)\n",
    "    Encoder = LabelEncoder()\n",
    "    Train_Y = Encoder.fit_transform(Train_Y)\n",
    "    Test_Y = Encoder.fit_transform(Test_Y)\n",
    "    Tfidf_vect = TfidfVectorizer(max_features=5000)\n",
    "    Tfidf_vect.fit(Corpus['text_final'])\n",
    "\n",
    "    Train_X_Tfidf = Tfidf_vect.transform(Train_X)\n",
    "    Test_X_Tfidf = Tfidf_vect.transform(Test_X)\n",
    "    return Train_X_Tfidf, Test_X_Tfidf, Train_Y, Test_Y"
   ]
  },
  {
   "cell_type": "code",
   "execution_count": 5,
   "id": "0ae8aaa6-654c-45a2-ab0a-ba542a2cba52",
   "metadata": {},
   "outputs": [],
   "source": [
    "np.random.seed(500)\n",
    "#c78 -> cause label\n",
    "#c119 -> report remarks\n",
    "columns = [\"c78\", \"c119\",\"remark\"]"
   ]
  },
  {
   "cell_type": "code",
   "execution_count": 6,
   "id": "078ddd19-2b27-44c1-996f-3a031595b909",
   "metadata": {},
   "outputs": [],
   "source": [
    "Corpus = pd.read_csv(\"./Subsets/Maintenance_Text_data.csv\",encoding='latin-1', header=0, usecols=columns)\n",
    "Corpus[\"concat\"] = Corpus[\"remark\"] + ' ' + Corpus[\"c119\"]\n",
    "\n",
    "#List of labels to use\n",
    "labels = ['AU', 'ME', 'AF', 'DE', 'II', 'EQ', 'AI']\n",
    "pairs = list(combinations(labels, 2))"
   ]
  },
  {
   "cell_type": "code",
   "execution_count": 7,
   "id": "845023d3-3890-4415-9c22-70ba6a9086fa",
   "metadata": {},
   "outputs": [],
   "source": [
    "row_name = \"remark\"\n",
    "temp_svm = pd.DataFrame()\n",
    "temp_nb = pd.DataFrame()\n",
    "\n",
    "for pair in pairs:\n",
    "    temp_Corpus = Corpus.loc[Corpus['c78'].isin([pair[0],pair[1]])]\n",
    "    Train_X_Tfidf, Test_X_Tfidf, Train_Y, Test_Y = run_model(temp_Corpus, row_name)\n",
    "    temp_nb[f\"{pair[1]}:{pair[0]}\"] = ([NB_result(Train_X_Tfidf,Train_Y, Test_X_Tfidf, Test_Y)])\n",
    "    temp_svm[f\"{pair[1]}:{pair[0]}\"] = ([SVM_result(Train_X_Tfidf,Train_Y, Test_X_Tfidf, Test_Y)])"
   ]
  },
  {
   "cell_type": "code",
   "execution_count": 8,
   "id": "003ca4ea-442e-4ecb-a473-40b22c1c2f3e",
   "metadata": {},
   "outputs": [],
   "source": [
    "NB = pd.read_csv('./Pairs/NB.csv', index_col=0)\n",
    "concated = pd.concat([NB, temp_nb])\n",
    "concated.rename(index = {0:row_name},inplace=True)\n",
    "concated.to_csv('./Pairs/NB.csv')\n",
    "\n",
    "SVM = pd.read_csv('./Pairs/SVM.csv',index_col=0)\n",
    "concated = pd.concat([SVM, temp_svm])\n",
    "concated.rename(index = {0:row_name},inplace=True)\n",
    "concated.to_csv('./Pairs/SVM.csv')"
   ]
  },
  {
   "cell_type": "code",
   "execution_count": 10,
   "id": "2492d8b1-db37-4fc5-ac2f-e4c14c5de0e3",
   "metadata": {},
   "outputs": [
    {
     "ename": "TypeError",
     "evalue": "sort_values() missing 1 required positional argument: 'by'",
     "output_type": "error",
     "traceback": [
      "\u001b[0;31m---------------------------------------------------------------------------\u001b[0m",
      "\u001b[0;31mTypeError\u001b[0m                                 Traceback (most recent call last)",
      "\u001b[0;32m/tmp/ipykernel_2631877/679068003.py\u001b[0m in \u001b[0;36m<module>\u001b[0;34m\u001b[0m\n\u001b[0;32m----> 1\u001b[0;31m \u001b[0mtemp_svm\u001b[0m\u001b[0;34m.\u001b[0m\u001b[0msort_values\u001b[0m\u001b[0;34m(\u001b[0m\u001b[0;34m)\u001b[0m\u001b[0;34m\u001b[0m\u001b[0;34m\u001b[0m\u001b[0m\n\u001b[0m",
      "\u001b[0;32m/opt/anaconda3/lib/python3.9/site-packages/pandas/util/_decorators.py\u001b[0m in \u001b[0;36mwrapper\u001b[0;34m(*args, **kwargs)\u001b[0m\n\u001b[1;32m    309\u001b[0m                     \u001b[0mstacklevel\u001b[0m\u001b[0;34m=\u001b[0m\u001b[0mstacklevel\u001b[0m\u001b[0;34m,\u001b[0m\u001b[0;34m\u001b[0m\u001b[0;34m\u001b[0m\u001b[0m\n\u001b[1;32m    310\u001b[0m                 )\n\u001b[0;32m--> 311\u001b[0;31m             \u001b[0;32mreturn\u001b[0m \u001b[0mfunc\u001b[0m\u001b[0;34m(\u001b[0m\u001b[0;34m*\u001b[0m\u001b[0margs\u001b[0m\u001b[0;34m,\u001b[0m \u001b[0;34m**\u001b[0m\u001b[0mkwargs\u001b[0m\u001b[0;34m)\u001b[0m\u001b[0;34m\u001b[0m\u001b[0;34m\u001b[0m\u001b[0m\n\u001b[0m\u001b[1;32m    312\u001b[0m \u001b[0;34m\u001b[0m\u001b[0m\n\u001b[1;32m    313\u001b[0m         \u001b[0;32mreturn\u001b[0m \u001b[0mwrapper\u001b[0m\u001b[0;34m\u001b[0m\u001b[0;34m\u001b[0m\u001b[0m\n",
      "\u001b[0;31mTypeError\u001b[0m: sort_values() missing 1 required positional argument: 'by'"
     ]
    }
   ],
   "source": []
  },
  {
   "cell_type": "code",
   "execution_count": null,
   "id": "d764977d-038e-448c-b211-fd532efaf30c",
   "metadata": {},
   "outputs": [],
   "source": []
  }
 ],
 "metadata": {
  "kernelspec": {
   "display_name": "Python 3",
   "language": "python",
   "name": "python3"
  },
  "language_info": {
   "codemirror_mode": {
    "name": "ipython",
    "version": 3
   },
   "file_extension": ".py",
   "mimetype": "text/x-python",
   "name": "python",
   "nbconvert_exporter": "python",
   "pygments_lexer": "ipython3",
   "version": "3.9.15"
  }
 },
 "nbformat": 4,
 "nbformat_minor": 5
}
