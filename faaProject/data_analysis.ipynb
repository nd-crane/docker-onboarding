{
 "cells": [
  {
   "cell_type": "code",
   "execution_count": null,
   "id": "80f493d4-3ace-40a0-adff-552609a710cf",
   "metadata": {},
   "outputs": [
    {
     "ename": "",
     "evalue": "",
     "output_type": "error",
     "traceback": [
      "\u001b[1;31mRunning cells with 'Python 3.10.8 ('base')' requires ipykernel package.\n",
      "\u001b[1;31mRun the following command to install 'ipykernel' into the Python environment. \n",
      "\u001b[1;31mCommand: 'conda install -n base ipykernel --update-deps --force-reinstall'"
     ]
    }
   ],
   "source": [
    "import pandas as pd\n",
    "import numpy as np\n",
    "import matplotlib.pyplot as plt\n",
    "%matplotlib inline"
   ]
  },
  {
   "cell_type": "code",
   "execution_count": 2,
   "id": "14e8ada8-b345-4252-a36c-7b20a81a3e26",
   "metadata": {},
   "outputs": [],
   "source": [
    "data = pd.read_csv('./Subsets/Maintenance_Text_data.csv',encoding='latin-1')"
   ]
  },
  {
   "cell_type": "code",
   "execution_count": 3,
   "id": "76cacdac-f024-43f5-a5cf-3d91689e925a",
   "metadata": {},
   "outputs": [
    {
     "data": {
      "text/plain": [
       "'TAILWHEEL COCKED RIGHT PRIOR TO takeoff '"
      ]
     },
     "execution_count": 3,
     "metadata": {},
     "output_type": "execute_result"
    }
   ],
   "source": [
    "data['remark'].iat[0]"
   ]
  },
  {
   "cell_type": "code",
   "execution_count": 4,
   "id": "d8f94934-87e9-47cf-a413-06673dfd3e80",
   "metadata": {},
   "outputs": [
    {
     "name": "stdout",
     "output_type": "stream",
     "text": [
      "Data has 2748 rows and 35 cols\n",
      "0 columns are completely empty\n",
      "33 columns are completely full\n"
     ]
    },
    {
     "data": {
      "image/png": "[encoded data removed]",
      "text/plain": [
       "<Figure size 640x480 with 1 Axes>"
      ]
     },
     "metadata": {},
     "output_type": "display_data"
    }
   ],
   "source": [
    "# general / column fullness\n",
    "\n",
    "Nrows = len(data)\n",
    "Ncols = len(data.columns)\n",
    "\n",
    "nonemptycols = data.dropna(axis='columns',how='all')\n",
    "fullcols = data.dropna(axis='columns')\n",
    "mixedcols = nonemptycols.drop(columns=list(fullcols.columns))\n",
    "na_counts = [mixedcols[col].isna().sum() for col in mixedcols]\n",
    "\n",
    "# output\n",
    "\n",
    "print(f'Data has {Nrows} rows and {Ncols} cols')\n",
    "print(f'{Ncols - len(nonemptycols.columns)} columns are completely empty')\n",
    "print(f\"{len(data.dropna(axis='columns').columns)} columns are completely full\")\n",
    "\n",
    "# histogram of na vals\n",
    "fig = plt.figure()\n",
    "ax = fig.add_axes([0,0,1,1])\n",
    "na_hist = ax.hist(na_counts, len(na_counts))\n",
    "ylabel=ax.set_ylabel('Number of Cols')\n",
    "xlabel=ax.set_xlabel(f'Na Counts - excluding 0 and {Nrows}')"
   ]
  },
  {
   "cell_type": "code",
   "execution_count": 5,
   "id": "8ea56597-7635-412a-9d29-a47958d1cb3b",
   "metadata": {},
   "outputs": [
    {
     "name": "stdout",
     "output_type": "stream",
     "text": [
      "-------\n",
      "c101                          : ['Personal            ', 'Air Taxi (Non-Schedu', 'Instruction         ', 'Business            ', 'Scheduled Air Carrie', 'Other               ']\n",
      "full series has 15 unique vals: ['Personal            ', 'Air Taxi (Non-Schedu', 'Instruction         ', 'Business            ', 'Scheduled Air Carrie', 'Other               ', 'Aerial Applicator   ', 'A/T Com (Sched 5/Mor', 'Executive           ', 'Industrial/Special  ', 'Supplemental Or Comm', 'All Cargo Carriers  ', 'Air Taxi (Sched-Not ', 'For Hire            ', 'Air Taxi Oper-Large ']\n",
      "\n",
      "-------\n",
      "c103                          : ['Pleasure            ', 'Passengers          ', 'None Or Other       ', 'Training            ', 'Ferry               ', 'Cargo               ']\n",
      "full series has 26 unique vals: ['Pleasure            ', 'Passengers          ', 'None Or Other       ', 'Training            ', 'Ferry               ', 'Cargo               ', 'Agriculture         ', 'Test Flight         ', 'Glider              ', 'Passengers And Cargo', 'Unknown             ', 'Helicopter External ', 'Industrial          ', 'Air Ambulance       ', 'Experimental Test Fl', 'Civil Club          ', 'Sky Diving Free Fall', 'Public              ', 'Military Club       ', 'FAA Flight Check    ', 'Air Show            ', '                    ', 'FAA Operations      ', 'Banner Tow          ', 'Hot Air Balloon     ', 'Air Mail            ']\n",
      "\n",
      "-------\n",
      "c133                          : ['Not Reported        ', 'None                ', 'Violation           ', 'Discussion          ', 'Re-Examination/Re-In', 'Other               ', '                    ']\n",
      "full series has 13 unique vals: ['Not Reported        ', 'None                ', 'Violation           ', 'Discussion          ', 'Re-Examination/Re-In', 'Other               ', '                    ', 'Recommend Gen Change', 'Additional Training ', 'Letter              ', 'Vol Surrender Of Cer', 'A/Data Coded From Nt', 'Non-Comp Airworthine']\n",
      "\n",
      "-------\n",
      "c93                           : ['Other-Miscellaneous ', 'Forced Landing      ', 'Control Coll With Gr', 'Collision With Other', 'Uncontroll Coll With', 'System/Component Mal', 'Collision With Trees', 'Engine Malfunction  ', 'Nose Up Or Over     ', 'Gear Collapse       ']\n",
      "full series has 52 unique vals: ['Other-Miscellaneous ', 'Forced Landing      ', 'Control Coll With Gr', 'Collision With Other', 'Uncontroll Coll With', 'System/Component Mal', 'Collision With Trees', 'Engine Malfunction  ', 'Nose Up Or Over     ', 'Gear Collapse       ', 'Wheels-Up Landing   ', 'Stall               ', 'Loss Of Dir Ctl-Grnd', 'Hard Landing        ', 'Loss Of Directional ', 'Overshoot Landing   ', 'Collision With Fence', 'Collision With Wires', 'Gear Retr During Grd', 'Fire Or Explosion-On', 'Undershoot Landing  ', 'Airframe Failure-In ', 'Fire Or Explosion-In', 'Propeller Blade     ', 'Coll With Airport Ha', 'Coll With Rwy/App Li', 'Spin                ', 'Control Coll With Wa', 'Dynamic Rollover    ', 'Loss Of Dir Ctl-Drag', '                    ', 'Jet Rotor Blade     ', 'Wheels-Down Landing ', 'A/C Collisions-On Gr', 'Prop/Rotor Accident ', 'Uncontrol Coll With ', 'Helicopter Blade    ', 'Turb In Flt. Acft Da', 'Evasive Maneuver Str', 'Collision With Anima', 'Jet Blast           ', 'Airframe Failure-On ', 'Prop Blast          ', 'A/C Collisions-One A', 'Emergency Parachute ', 'Missing Aircraft    ', 'Rotor Blast         ', 'Blown Over (Wind Onl', 'Decompression       ', 'Coll With Electronic', 'Prop Malfunction Or ', 'Tail Strike         ']\n",
      "\n",
      "-------\n",
      "c95                           : ['Fcd/Prec Ldg From Cr', 'Forced/Precautionary', 'To Init Climb(1st Pw', 'Normal Cruise', 'Roll-Out (Fixed Wing', 'Takeoff Ground Roll', 'To Aborted (Fixed Wi', 'Level Off Touchdown', 'Ground Taxi, Other A', 'Climb']\n",
      "full series has 50 unique vals: ['Fcd/Prec Ldg From Cr', 'Forced/Precautionary', 'To Init Climb(1st Pw', 'Normal Cruise', 'Roll-Out (Fixed Wing', 'Takeoff Ground Roll', 'To Aborted (Fixed Wi', 'Level Off Touchdown', 'Ground Taxi, Other A', 'Climb', 'To Vertical (Helicop', 'Forced Landing', 'Go Round (Aborted VF', 'Other Ground Ops', 'Final Approach', 'Descent', 'Starting Engines', 'Low Level Operations', 'In Traffic Pattern-C', 'Practice Training Ma', 'Pwr Off Run Land (Au', 'Hovering', 'Initial Approach-IFR', 'Pwr Off Vert Land/Au', 'Final Approach-IFR', 'Touch And Go Landing', 'To Running(Helicopte', 'Pwr On Vertical Ldng', 'Ops On Grnd From Ldg', 'Idling Engines', 'Missed Approach IFR', 'Unknown/Not Reported', 'Engine Run-Up', 'Prw On Run Landing (', 'Scud Running', 'Idling Rotors', 'Unauth Low Level Opn', 'Aerial Taxi To Tkof/', 'Simulated Forced Lan', 'Sfl Go Around', 'To Aborted (Copter/R', 'Aerial Taxi, Other H', 'Tkof-Abort-Copter Ve', 'Parachute Jumping', 'Ops On Grnd To Tkof/', 'Sfl Final Approach', 'Sfl Cruise', 'Holding IFR', 'Roll-Out (Rotorcraft', 'Autorot Descent (Rot']\n",
      "\n"
     ]
    },
    {
     "data": {
      "image/png": "[encoded data removed]",
      "text/plain": [
       "<Figure size 640x480 with 1 Axes>"
      ]
     },
     "metadata": {},
     "output_type": "display_data"
    }
   ],
   "source": [
    "# Unique values in each column\n",
    "\n",
    "output = True\n",
    "\n",
    "columns = data.columns\n",
    "unique_counts = {col : data[col].value_counts() for col in columns}\n",
    "# value_counts ignores na\n",
    "\n",
    "# limit columns to ones with unique vals between limits (inclusive), only counting unique vals with at least min instances\n",
    "limits = (5,15)\n",
    "min = 100\n",
    "u_cts_above_min = {col : unique_counts[col].drop([label for label in unique_counts[col].index if unique_counts[col][label] < min]).dropna() for col in columns}\n",
    "columns = [col for col in columns if len(u_cts_above_min[col]) >= limits[0] and len(u_cts_above_min[col]) <= limits[1]]\n",
    "\n",
    "# sort for graph\n",
    "columns = sorted(columns, key=lambda col : len(u_cts_above_min[col]))\n",
    "\n",
    "# output\n",
    "\n",
    "if output:\n",
    "\n",
    "    for col in columns:\n",
    "        print('-------')\n",
    "        print(f'{col:<30}: {[index for index in u_cts_above_min[col].index]}')\n",
    "        print(f'full series has {len(unique_counts[col])} unique vals: {[index for index in unique_counts[col].index]}')\n",
    "        print()\n",
    "\n",
    "    # graph\n",
    "    fig = plt.figure()\n",
    "    ax = fig.add_axes([0,0,1,1])\n",
    "    u_cts = ax.plot(columns, [len(u_cts_above_min[col]) for col in columns])\n",
    "    plt.xticks(rotation=90)\n",
    "    ylabel = ax.set_ylabel('Num Unique')\n",
    "    xlabel = ax.set_xlabel('All Cols')"
   ]
  },
  {
   "cell_type": "code",
   "execution_count": 6,
   "id": "2e1d7cff-6943-4319-8e97-1206872bd4e6",
   "metadata": {},
   "outputs": [
    {
     "name": "stdout",
     "output_type": "stream",
     "text": [
      "Fullness of Text Cols:\n",
      "                c119 : 100.0%\n",
      "              remark : 100.0%\n",
      "                 c85 : 54.91%\n",
      "                 c95 : 99.93%\n",
      "\n",
      "Number of Words in Entries:\n",
      "                c119 : Average: 17.0, std=3.038\n",
      "              remark : Average: 55.0, std=95.42\n",
      "                 c85 : Average: 2.47, std=1.286\n",
      "                 c95 : Average: 2.9, std=1.159\n"
     ]
    }
   ],
   "source": [
    "# Check Text Column Viability for NLP\n",
    "\n",
    "# identified these columns as text columns just by looking through the csv\n",
    "columns = ['c119','remark','c85','c95']\n",
    "Nrows = len(data)\n",
    "\n",
    "# check for number of na's in text cols\n",
    "percent_full = {col : data[col].notna().sum()/Nrows*100 for col in columns}\n",
    "\n",
    "# check for number of words in entries in text cols\n",
    "word_counts = {}\n",
    "for col in columns:\n",
    "    full_data = data[col].dropna()\n",
    "    word_counts[col] = np.asarray([len( full_data.iat[row].split() ) for row in range(len(full_data))])\n",
    "\n",
    "# output\n",
    "\n",
    "print('Fullness of Text Cols:')\n",
    "for col in columns:\n",
    "    print(f'{col:>20} : {percent_full[col]:.4}%')\n",
    "\n",
    "print('')\n",
    "\n",
    "print('Number of Words in Entries:')\n",
    "for col in columns:\n",
    "    print(f'{col:>20} : Average: {word_counts[col].mean():.3}, std={word_counts[col].std():.4}')"
   ]
  },
  {
   "cell_type": "code",
   "execution_count": 7,
   "id": "1b290152-f03b-405d-9c9d-a0ce8aba2339",
   "metadata": {},
   "outputs": [
    {
     "name": "stdout",
     "output_type": "stream",
     "text": [
      "Instances of Unique Values in c78:\n",
      "3 values with more than 100 instances\n",
      "II    1942\n",
      "ME     374\n",
      "AU     244\n",
      "AF      92\n",
      "DE      57\n",
      "EQ      23\n",
      "AI      15\n",
      "AP       1\n",
      "Name: c78, dtype: int64\n",
      "\n"
     ]
    }
   ],
   "source": [
    "# Checking Frequency of Unique Values in Specified Column (viability for use as category)\n",
    "\n",
    "ycol = 'c78'\n",
    "\n",
    "# get unique values with number of instances above min\n",
    "min = 100\n",
    "u_cts = data[ycol].value_counts() # series not dictionary of series, bc it's just the one col\n",
    "r_u_cts = u_cts.drop([label for label in u_cts.index if u_cts[label] < min])\n",
    "y_set = r_u_cts.index\n",
    "print(f'Instances of Unique Values in {ycol}:')\n",
    "print(f'{len(y_set)} values with more than {min} instances')\n",
    "print(u_cts)\n",
    "print()"
   ]
  },
  {
   "cell_type": "code",
   "execution_count": 8,
   "id": "02468283-fbe6-4c09-b2bb-73ac841288bd",
   "metadata": {},
   "outputs": [],
   "source": [
    "# comparing location to equipmentNomenclature\n",
    "\n",
    "# leads me to believe that COUNTERMEASURE E and ENCLOSURE, CONT have something that differentiates them but still\n",
    "# may both be short for countermeasure enclosure"
   ]
  },
  {
   "cell_type": "code",
   "execution_count": 9,
   "id": "71d7dd56-8a53-4759-a3f6-951bb53721bb",
   "metadata": {},
   "outputs": [
    {
     "ename": "NameError",
     "evalue": "name 'path_to_user' is not defined",
     "output_type": "error",
     "traceback": [
      "\u001b[0;31m---------------------------------------------------------------------------\u001b[0m",
      "\u001b[0;31mNameError\u001b[0m                                 Traceback (most recent call last)",
      "\u001b[0;32m/tmp/ipykernel_3490756/3867102740.py\u001b[0m in \u001b[0;36m<module>\u001b[0;34m\u001b[0m\n\u001b[1;32m      1\u001b[0m \u001b[0;32mimport\u001b[0m \u001b[0msys\u001b[0m\u001b[0;34m\u001b[0m\u001b[0;34m\u001b[0m\u001b[0m\n\u001b[0;32m----> 2\u001b[0;31m \u001b[0msys\u001b[0m\u001b[0;34m.\u001b[0m\u001b[0mpath\u001b[0m\u001b[0;34m.\u001b[0m\u001b[0minsert\u001b[0m\u001b[0;34m(\u001b[0m\u001b[0;36m0\u001b[0m\u001b[0;34m,\u001b[0m \u001b[0mpath_to_user\u001b[0m \u001b[0;34m+\u001b[0m \u001b[0;34m'modules'\u001b[0m\u001b[0;34m)\u001b[0m\u001b[0;34m\u001b[0m\u001b[0;34m\u001b[0m\u001b[0m\n\u001b[0m\u001b[1;32m      3\u001b[0m \u001b[0;32mimport\u001b[0m \u001b[0mdata_lib\u001b[0m\u001b[0;34m\u001b[0m\u001b[0;34m\u001b[0m\u001b[0m\n",
      "\u001b[0;31mNameError\u001b[0m: name 'path_to_user' is not defined"
     ]
    }
   ],
   "source": [
    "import sys\n",
    "sys.path.insert(0, path_to_user + 'modules')\n",
    "import data_lib"
   ]
  },
  {
   "cell_type": "code",
   "execution_count": 10,
   "id": "90c2bd6a-2cb0-4493-8217-5f626a0feac7",
   "metadata": {},
   "outputs": [
    {
     "ename": "NameError",
     "evalue": "name 'data_lib' is not defined",
     "output_type": "error",
     "traceback": [
      "\u001b[0;31m---------------------------------------------------------------------------\u001b[0m",
      "\u001b[0;31mNameError\u001b[0m                                 Traceback (most recent call last)",
      "\u001b[0;32m/tmp/ipykernel_3490756/1750731167.py\u001b[0m in \u001b[0;36m<module>\u001b[0;34m\u001b[0m\n\u001b[0;32m----> 1\u001b[0;31m \u001b[0mlocs\u001b[0m \u001b[0;34m=\u001b[0m \u001b[0;34m{\u001b[0m\u001b[0mlabel\u001b[0m\u001b[0;34m:\u001b[0m\u001b[0mdata_lib\u001b[0m\u001b[0;34m.\u001b[0m\u001b[0mselect_data\u001b[0m\u001b[0;34m(\u001b[0m\u001b[0mdata\u001b[0m\u001b[0;34m,\u001b[0m \u001b[0;34m'location'\u001b[0m\u001b[0;34m,\u001b[0m\u001b[0;34m'equipmentNomenclature'\u001b[0m\u001b[0;34m,\u001b[0m\u001b[0;34m[\u001b[0m\u001b[0mlabel\u001b[0m\u001b[0;34m]\u001b[0m\u001b[0;34m)\u001b[0m\u001b[0;34m[\u001b[0m\u001b[0;34m'location'\u001b[0m\u001b[0;34m]\u001b[0m \u001b[0;32mfor\u001b[0m \u001b[0mlabel\u001b[0m \u001b[0;32min\u001b[0m \u001b[0;34m[\u001b[0m\u001b[0;34m'CABINET, ELECTRI'\u001b[0m\u001b[0;34m,\u001b[0m\u001b[0;34m'CONSOLE, DISPLAY'\u001b[0m\u001b[0;34m,\u001b[0m\u001b[0;34m'ENCLOSURE, COUNT'\u001b[0m\u001b[0;34m,\u001b[0m\u001b[0;34m'EXCHANGER, HEAT,'\u001b[0m\u001b[0;34m,\u001b[0m\u001b[0;34m'AN/SLQ-32'\u001b[0m\u001b[0;34m,\u001b[0m\u001b[0;34m'COUNTERMEASURES'\u001b[0m\u001b[0;34m,\u001b[0m\u001b[0;34m'COUNTERMEASURE E'\u001b[0m\u001b[0;34m]\u001b[0m\u001b[0;34m}\u001b[0m\u001b[0;34m\u001b[0m\u001b[0;34m\u001b[0m\u001b[0m\n\u001b[0m",
      "\u001b[0;32m/tmp/ipykernel_3490756/1750731167.py\u001b[0m in \u001b[0;36m<dictcomp>\u001b[0;34m(.0)\u001b[0m\n\u001b[0;32m----> 1\u001b[0;31m \u001b[0mlocs\u001b[0m \u001b[0;34m=\u001b[0m \u001b[0;34m{\u001b[0m\u001b[0mlabel\u001b[0m\u001b[0;34m:\u001b[0m\u001b[0mdata_lib\u001b[0m\u001b[0;34m.\u001b[0m\u001b[0mselect_data\u001b[0m\u001b[0;34m(\u001b[0m\u001b[0mdata\u001b[0m\u001b[0;34m,\u001b[0m \u001b[0;34m'location'\u001b[0m\u001b[0;34m,\u001b[0m\u001b[0;34m'equipmentNomenclature'\u001b[0m\u001b[0;34m,\u001b[0m\u001b[0;34m[\u001b[0m\u001b[0mlabel\u001b[0m\u001b[0;34m]\u001b[0m\u001b[0;34m)\u001b[0m\u001b[0;34m[\u001b[0m\u001b[0;34m'location'\u001b[0m\u001b[0;34m]\u001b[0m \u001b[0;32mfor\u001b[0m \u001b[0mlabel\u001b[0m \u001b[0;32min\u001b[0m \u001b[0;34m[\u001b[0m\u001b[0;34m'CABINET, ELECTRI'\u001b[0m\u001b[0;34m,\u001b[0m\u001b[0;34m'CONSOLE, DISPLAY'\u001b[0m\u001b[0;34m,\u001b[0m\u001b[0;34m'ENCLOSURE, COUNT'\u001b[0m\u001b[0;34m,\u001b[0m\u001b[0;34m'EXCHANGER, HEAT,'\u001b[0m\u001b[0;34m,\u001b[0m\u001b[0;34m'AN/SLQ-32'\u001b[0m\u001b[0;34m,\u001b[0m\u001b[0;34m'COUNTERMEASURES'\u001b[0m\u001b[0;34m,\u001b[0m\u001b[0;34m'COUNTERMEASURE E'\u001b[0m\u001b[0;34m]\u001b[0m\u001b[0;34m}\u001b[0m\u001b[0;34m\u001b[0m\u001b[0;34m\u001b[0m\u001b[0m\n\u001b[0m",
      "\u001b[0;31mNameError\u001b[0m: name 'data_lib' is not defined"
     ]
    }
   ],
   "source": [
    "locs = {label:data_lib.select_data(data, 'location','equipmentNomenclature',[label])['location'] for label in ['CABINET, ELECTRI','CONSOLE, DISPLAY','ENCLOSURE, COUNT','EXCHANGER, HEAT,','AN/SLQ-32','COUNTERMEASURES','COUNTERMEASURE E']}"
   ]
  },
  {
   "cell_type": "code",
   "execution_count": 13,
   "id": "b4523639-5dc8-4fbc-bc9f-a1eb237ed0d2",
   "metadata": {},
   "outputs": [],
   "source": [
    "loc_counts = {}\n",
    "for label in ['CABINET, ELECTRI','CONSOLE, DISPLAY','ENCLOSURE, COUNT','EXCHANGER, HEAT,','AN/SLQ-32','COUNTERMEASURES','COUNTERMEASURE E']:\n",
    "    loc_counts[label] = {}\n",
    "    for entry in locs[label]:\n",
    "        loc_counts[label][entry] = loc_counts[label].get(entry, 0) + 1"
   ]
  },
  {
   "cell_type": "code",
   "execution_count": 14,
   "id": "c3d6a5c8-8100-453d-8045-5265430fcf66",
   "metadata": {},
   "outputs": [
    {
     "data": {
      "text/plain": [
       "{'CABINET, ELECTRI': {'03-128-0-C': 643},\n",
       " 'CONSOLE, DISPLAY': {'1-126-0-C': 140, '03-142-1-Q': 142, '2-126-2-C': 40},\n",
       " 'ENCLOSURE, COUNT': {'03-142-5-X': 182, '03-142-6-X': 89},\n",
       " 'EXCHANGER, HEAT,': {'03-128-0-C': 237, 'MULTIPLE': 1},\n",
       " 'AN/SLQ-32': {'MULTIPLE': 176, 'SHIPWIDE': 29, nan: 2},\n",
       " 'COUNTERMEASURES': {'MULTIPLE': 126, 'SHIPWIDE': 29},\n",
       " 'COUNTERMEASURE E': {'03-142-6-X': 133}}"
      ]
     },
     "execution_count": 14,
     "metadata": {},
     "output_type": "execute_result"
    }
   ],
   "source": [
    "loc_counts"
   ]
  },
  {
   "cell_type": "code",
   "execution_count": 22,
   "id": "0aaf27ef-c350-47df-a62e-1a6c96801a14",
   "metadata": {},
   "outputs": [
    {
     "ename": "KeyboardInterrupt",
     "evalue": "",
     "output_type": "error",
     "traceback": [
      "\u001b[0;31m---------------------------------------------------------------------------\u001b[0m",
      "\u001b[0;31mKeyboardInterrupt\u001b[0m                         Traceback (most recent call last)",
      "\u001b[0;32m/tmp/ipykernel_1297857/3480466742.py\u001b[0m in \u001b[0;36m<module>\u001b[0;34m\u001b[0m\n\u001b[1;32m     57\u001b[0m \u001b[0;32mwith\u001b[0m \u001b[0mconcurrent\u001b[0m\u001b[0;34m.\u001b[0m\u001b[0mfutures\u001b[0m\u001b[0;34m.\u001b[0m\u001b[0mThreadPoolExecutor\u001b[0m\u001b[0;34m(\u001b[0m\u001b[0mmax_workers\u001b[0m\u001b[0;34m=\u001b[0m\u001b[0;36m10\u001b[0m\u001b[0;34m)\u001b[0m \u001b[0;32mas\u001b[0m \u001b[0mexecutor\u001b[0m\u001b[0;34m:\u001b[0m\u001b[0;34m\u001b[0m\u001b[0;34m\u001b[0m\u001b[0m\n\u001b[0;32m---> 58\u001b[0;31m     \u001b[0mfuture_to_pair\u001b[0m \u001b[0;34m=\u001b[0m \u001b[0;34m{\u001b[0m\u001b[0mexecutor\u001b[0m\u001b[0;34m.\u001b[0m\u001b[0msubmit\u001b[0m\u001b[0;34m(\u001b[0m\u001b[0mcheck\u001b[0m\u001b[0;34m,\u001b[0m \u001b[0mpair\u001b[0m\u001b[0;34m,\u001b[0m \u001b[0mdata\u001b[0m\u001b[0;34m,\u001b[0m \u001b[0mcounts\u001b[0m\u001b[0;34m)\u001b[0m \u001b[0;34m:\u001b[0m \u001b[0mpair\u001b[0m \u001b[0;32mfor\u001b[0m \u001b[0mpair\u001b[0m \u001b[0;32min\u001b[0m \u001b[0mpairs\u001b[0m\u001b[0;34m}\u001b[0m\u001b[0;34m\u001b[0m\u001b[0;34m\u001b[0m\u001b[0m\n\u001b[0m\u001b[1;32m     59\u001b[0m     \u001b[0;32mfor\u001b[0m \u001b[0mfuture\u001b[0m \u001b[0;32min\u001b[0m \u001b[0mconcurrent\u001b[0m\u001b[0;34m.\u001b[0m\u001b[0mfutures\u001b[0m\u001b[0;34m.\u001b[0m\u001b[0mas_completed\u001b[0m\u001b[0;34m(\u001b[0m\u001b[0mfuture_to_pair\u001b[0m\u001b[0;34m)\u001b[0m\u001b[0;34m:\u001b[0m\u001b[0;34m\u001b[0m\u001b[0;34m\u001b[0m\u001b[0m\n",
      "\u001b[0;32m/tmp/ipykernel_1297857/3480466742.py\u001b[0m in \u001b[0;36m<dictcomp>\u001b[0;34m(.0)\u001b[0m\n\u001b[1;32m     57\u001b[0m \u001b[0;32mwith\u001b[0m \u001b[0mconcurrent\u001b[0m\u001b[0;34m.\u001b[0m\u001b[0mfutures\u001b[0m\u001b[0;34m.\u001b[0m\u001b[0mThreadPoolExecutor\u001b[0m\u001b[0;34m(\u001b[0m\u001b[0mmax_workers\u001b[0m\u001b[0;34m=\u001b[0m\u001b[0;36m10\u001b[0m\u001b[0;34m)\u001b[0m \u001b[0;32mas\u001b[0m \u001b[0mexecutor\u001b[0m\u001b[0;34m:\u001b[0m\u001b[0;34m\u001b[0m\u001b[0;34m\u001b[0m\u001b[0m\n\u001b[0;32m---> 58\u001b[0;31m     \u001b[0mfuture_to_pair\u001b[0m \u001b[0;34m=\u001b[0m \u001b[0;34m{\u001b[0m\u001b[0mexecutor\u001b[0m\u001b[0;34m.\u001b[0m\u001b[0msubmit\u001b[0m\u001b[0;34m(\u001b[0m\u001b[0mcheck\u001b[0m\u001b[0;34m,\u001b[0m \u001b[0mpair\u001b[0m\u001b[0;34m,\u001b[0m \u001b[0mdata\u001b[0m\u001b[0;34m,\u001b[0m \u001b[0mcounts\u001b[0m\u001b[0;34m)\u001b[0m \u001b[0;34m:\u001b[0m \u001b[0mpair\u001b[0m \u001b[0;32mfor\u001b[0m \u001b[0mpair\u001b[0m \u001b[0;32min\u001b[0m \u001b[0mpairs\u001b[0m\u001b[0;34m}\u001b[0m\u001b[0;34m\u001b[0m\u001b[0;34m\u001b[0m\u001b[0m\n\u001b[0m\u001b[1;32m     59\u001b[0m     \u001b[0;32mfor\u001b[0m \u001b[0mfuture\u001b[0m \u001b[0;32min\u001b[0m \u001b[0mconcurrent\u001b[0m\u001b[0;34m.\u001b[0m\u001b[0mfutures\u001b[0m\u001b[0;34m.\u001b[0m\u001b[0mas_completed\u001b[0m\u001b[0;34m(\u001b[0m\u001b[0mfuture_to_pair\u001b[0m\u001b[0;34m)\u001b[0m\u001b[0;34m:\u001b[0m\u001b[0;34m\u001b[0m\u001b[0;34m\u001b[0m\u001b[0m\n",
      "\u001b[0;32m/opt/anaconda3/lib/python3.9/concurrent/futures/thread.py\u001b[0m in \u001b[0;36msubmit\u001b[0;34m(self, fn, *args, **kwargs)\u001b[0m\n\u001b[1;32m    169\u001b[0m             \u001b[0mself\u001b[0m\u001b[0;34m.\u001b[0m\u001b[0m_work_queue\u001b[0m\u001b[0;34m.\u001b[0m\u001b[0mput\u001b[0m\u001b[0;34m(\u001b[0m\u001b[0mw\u001b[0m\u001b[0;34m)\u001b[0m\u001b[0;34m\u001b[0m\u001b[0;34m\u001b[0m\u001b[0m\n\u001b[0;32m--> 170\u001b[0;31m             \u001b[0mself\u001b[0m\u001b[0;34m.\u001b[0m\u001b[0m_adjust_thread_count\u001b[0m\u001b[0;34m(\u001b[0m\u001b[0;34m)\u001b[0m\u001b[0;34m\u001b[0m\u001b[0;34m\u001b[0m\u001b[0m\n\u001b[0m\u001b[1;32m    171\u001b[0m             \u001b[0;32mreturn\u001b[0m \u001b[0mf\u001b[0m\u001b[0;34m\u001b[0m\u001b[0;34m\u001b[0m\u001b[0m\n",
      "\u001b[0;32m/opt/anaconda3/lib/python3.9/concurrent/futures/thread.py\u001b[0m in \u001b[0;36m_adjust_thread_count\u001b[0;34m(self)\u001b[0m\n\u001b[1;32m    175\u001b[0m         \u001b[0;31m# if idle threads are available, don't spin new threads\u001b[0m\u001b[0;34m\u001b[0m\u001b[0;34m\u001b[0m\u001b[0m\n\u001b[0;32m--> 176\u001b[0;31m         \u001b[0;32mif\u001b[0m \u001b[0mself\u001b[0m\u001b[0;34m.\u001b[0m\u001b[0m_idle_semaphore\u001b[0m\u001b[0;34m.\u001b[0m\u001b[0macquire\u001b[0m\u001b[0;34m(\u001b[0m\u001b[0mtimeout\u001b[0m\u001b[0;34m=\u001b[0m\u001b[0;36m0\u001b[0m\u001b[0;34m)\u001b[0m\u001b[0;34m:\u001b[0m\u001b[0;34m\u001b[0m\u001b[0;34m\u001b[0m\u001b[0m\n\u001b[0m\u001b[1;32m    177\u001b[0m             \u001b[0;32mreturn\u001b[0m\u001b[0;34m\u001b[0m\u001b[0;34m\u001b[0m\u001b[0m\n",
      "\u001b[0;32m/opt/anaconda3/lib/python3.9/threading.py\u001b[0m in \u001b[0;36macquire\u001b[0;34m(self, blocking, timeout)\u001b[0m\n\u001b[1;32m    431\u001b[0m         \u001b[0mendtime\u001b[0m \u001b[0;34m=\u001b[0m \u001b[0;32mNone\u001b[0m\u001b[0;34m\u001b[0m\u001b[0;34m\u001b[0m\u001b[0m\n\u001b[0;32m--> 432\u001b[0;31m         \u001b[0;32mwith\u001b[0m \u001b[0mself\u001b[0m\u001b[0;34m.\u001b[0m\u001b[0m_cond\u001b[0m\u001b[0;34m:\u001b[0m\u001b[0;34m\u001b[0m\u001b[0;34m\u001b[0m\u001b[0m\n\u001b[0m\u001b[1;32m    433\u001b[0m             \u001b[0;32mwhile\u001b[0m \u001b[0mself\u001b[0m\u001b[0;34m.\u001b[0m\u001b[0m_value\u001b[0m \u001b[0;34m==\u001b[0m \u001b[0;36m0\u001b[0m\u001b[0;34m:\u001b[0m\u001b[0;34m\u001b[0m\u001b[0;34m\u001b[0m\u001b[0m\n",
      "\u001b[0;32m/opt/anaconda3/lib/python3.9/threading.py\u001b[0m in \u001b[0;36m__enter__\u001b[0;34m(self)\u001b[0m\n\u001b[1;32m    256\u001b[0m     \u001b[0;32mdef\u001b[0m \u001b[0m__enter__\u001b[0m\u001b[0;34m(\u001b[0m\u001b[0mself\u001b[0m\u001b[0;34m)\u001b[0m\u001b[0;34m:\u001b[0m\u001b[0;34m\u001b[0m\u001b[0;34m\u001b[0m\u001b[0m\n\u001b[0;32m--> 257\u001b[0;31m         \u001b[0;32mreturn\u001b[0m \u001b[0mself\u001b[0m\u001b[0;34m.\u001b[0m\u001b[0m_lock\u001b[0m\u001b[0;34m.\u001b[0m\u001b[0m__enter__\u001b[0m\u001b[0;34m(\u001b[0m\u001b[0;34m)\u001b[0m\u001b[0;34m\u001b[0m\u001b[0;34m\u001b[0m\u001b[0m\n\u001b[0m\u001b[1;32m    258\u001b[0m \u001b[0;34m\u001b[0m\u001b[0m\n",
      "\u001b[0;31mKeyboardInterrupt\u001b[0m: ",
      "\nDuring handling of the above exception, another exception occurred:\n",
      "\u001b[0;31mKeyboardInterrupt\u001b[0m                         Traceback (most recent call last)",
      "\u001b[0;32m/tmp/ipykernel_1297857/3480466742.py\u001b[0m in \u001b[0;36m<module>\u001b[0;34m\u001b[0m\n\u001b[1;32m     63\u001b[0m             \u001b[0mpair_name\u001b[0m \u001b[0;34m=\u001b[0m \u001b[0mpair\u001b[0m\u001b[0;34m[\u001b[0m\u001b[0;36m0\u001b[0m\u001b[0;34m]\u001b[0m \u001b[0;34m+\u001b[0m \u001b[0;34m\"__\"\u001b[0m \u001b[0;34m+\u001b[0m \u001b[0mpair\u001b[0m\u001b[0;34m[\u001b[0m\u001b[0;36m1\u001b[0m\u001b[0;34m]\u001b[0m\u001b[0;34m\u001b[0m\u001b[0;34m\u001b[0m\u001b[0m\n\u001b[1;32m     64\u001b[0m             \u001b[0mcorr_cols\u001b[0m\u001b[0;34m[\u001b[0m\u001b[0mpair_name\u001b[0m\u001b[0;34m]\u001b[0m \u001b[0;34m=\u001b[0m \u001b[0mstr\u001b[0m\u001b[0;34m(\u001b[0m\u001b[0mlen\u001b[0m\u001b[0;34m(\u001b[0m\u001b[0mcorr_rows\u001b[0m\u001b[0;34m)\u001b[0m\u001b[0;34m)\u001b[0m\u001b[0;34m\u001b[0m\u001b[0;34m\u001b[0m\u001b[0m\n\u001b[0;32m---> 65\u001b[0;31m             \u001b[0mprint\u001b[0m\u001b[0;34m(\u001b[0m\u001b[0;34mf'{pair_name} : {corr_cols[pair_name]}'\u001b[0m\u001b[0;34m)\u001b[0m\u001b[0;34m\u001b[0m\u001b[0;34m\u001b[0m\u001b[0m\n\u001b[0m",
      "\u001b[0;32m/opt/anaconda3/lib/python3.9/concurrent/futures/_base.py\u001b[0m in \u001b[0;36m__exit__\u001b[0;34m(self, exc_type, exc_val, exc_tb)\u001b[0m\n\u001b[1;32m    634\u001b[0m \u001b[0;34m\u001b[0m\u001b[0m\n\u001b[1;32m    635\u001b[0m     \u001b[0;32mdef\u001b[0m \u001b[0m__exit__\u001b[0m\u001b[0;34m(\u001b[0m\u001b[0mself\u001b[0m\u001b[0;34m,\u001b[0m \u001b[0mexc_type\u001b[0m\u001b[0;34m,\u001b[0m \u001b[0mexc_val\u001b[0m\u001b[0;34m,\u001b[0m \u001b[0mexc_tb\u001b[0m\u001b[0;34m)\u001b[0m\u001b[0;34m:\u001b[0m\u001b[0;34m\u001b[0m\u001b[0;34m\u001b[0m\u001b[0m\n\u001b[0;32m--> 636\u001b[0;31m         \u001b[0mself\u001b[0m\u001b[0;34m.\u001b[0m\u001b[0mshutdown\u001b[0m\u001b[0;34m(\u001b[0m\u001b[0mwait\u001b[0m\u001b[0;34m=\u001b[0m\u001b[0;32mTrue\u001b[0m\u001b[0;34m)\u001b[0m\u001b[0;34m\u001b[0m\u001b[0;34m\u001b[0m\u001b[0m\n\u001b[0m\u001b[1;32m    637\u001b[0m         \u001b[0;32mreturn\u001b[0m \u001b[0;32mFalse\u001b[0m\u001b[0;34m\u001b[0m\u001b[0;34m\u001b[0m\u001b[0m\n\u001b[1;32m    638\u001b[0m \u001b[0;34m\u001b[0m\u001b[0m\n",
      "\u001b[0;32m/opt/anaconda3/lib/python3.9/concurrent/futures/thread.py\u001b[0m in \u001b[0;36mshutdown\u001b[0;34m(self, wait, cancel_futures)\u001b[0m\n\u001b[1;32m    227\u001b[0m         \u001b[0;32mif\u001b[0m \u001b[0mwait\u001b[0m\u001b[0;34m:\u001b[0m\u001b[0;34m\u001b[0m\u001b[0;34m\u001b[0m\u001b[0m\n\u001b[1;32m    228\u001b[0m             \u001b[0;32mfor\u001b[0m \u001b[0mt\u001b[0m \u001b[0;32min\u001b[0m \u001b[0mself\u001b[0m\u001b[0;34m.\u001b[0m\u001b[0m_threads\u001b[0m\u001b[0;34m:\u001b[0m\u001b[0;34m\u001b[0m\u001b[0;34m\u001b[0m\u001b[0m\n\u001b[0;32m--> 229\u001b[0;31m                 \u001b[0mt\u001b[0m\u001b[0;34m.\u001b[0m\u001b[0mjoin\u001b[0m\u001b[0;34m(\u001b[0m\u001b[0;34m)\u001b[0m\u001b[0;34m\u001b[0m\u001b[0;34m\u001b[0m\u001b[0m\n\u001b[0m\u001b[1;32m    230\u001b[0m     \u001b[0mshutdown\u001b[0m\u001b[0;34m.\u001b[0m\u001b[0m__doc__\u001b[0m \u001b[0;34m=\u001b[0m \u001b[0m_base\u001b[0m\u001b[0;34m.\u001b[0m\u001b[0mExecutor\u001b[0m\u001b[0;34m.\u001b[0m\u001b[0mshutdown\u001b[0m\u001b[0;34m.\u001b[0m\u001b[0m__doc__\u001b[0m\u001b[0;34m\u001b[0m\u001b[0;34m\u001b[0m\u001b[0m\n",
      "\u001b[0;32m/opt/anaconda3/lib/python3.9/threading.py\u001b[0m in \u001b[0;36mjoin\u001b[0;34m(self, timeout)\u001b[0m\n\u001b[1;32m   1051\u001b[0m \u001b[0;34m\u001b[0m\u001b[0m\n\u001b[1;32m   1052\u001b[0m         \u001b[0;32mif\u001b[0m \u001b[0mtimeout\u001b[0m \u001b[0;32mis\u001b[0m \u001b[0;32mNone\u001b[0m\u001b[0;34m:\u001b[0m\u001b[0;34m\u001b[0m\u001b[0;34m\u001b[0m\u001b[0m\n\u001b[0;32m-> 1053\u001b[0;31m             \u001b[0mself\u001b[0m\u001b[0;34m.\u001b[0m\u001b[0m_wait_for_tstate_lock\u001b[0m\u001b[0;34m(\u001b[0m\u001b[0;34m)\u001b[0m\u001b[0;34m\u001b[0m\u001b[0;34m\u001b[0m\u001b[0m\n\u001b[0m\u001b[1;32m   1054\u001b[0m         \u001b[0;32melse\u001b[0m\u001b[0;34m:\u001b[0m\u001b[0;34m\u001b[0m\u001b[0;34m\u001b[0m\u001b[0m\n\u001b[1;32m   1055\u001b[0m             \u001b[0;31m# the behavior of a negative timeout isn't documented, but\u001b[0m\u001b[0;34m\u001b[0m\u001b[0;34m\u001b[0m\u001b[0m\n",
      "\u001b[0;32m/opt/anaconda3/lib/python3.9/threading.py\u001b[0m in \u001b[0;36m_wait_for_tstate_lock\u001b[0;34m(self, block, timeout)\u001b[0m\n\u001b[1;32m   1067\u001b[0m         \u001b[0;32mif\u001b[0m \u001b[0mlock\u001b[0m \u001b[0;32mis\u001b[0m \u001b[0;32mNone\u001b[0m\u001b[0;34m:\u001b[0m  \u001b[0;31m# already determined that the C code is done\u001b[0m\u001b[0;34m\u001b[0m\u001b[0;34m\u001b[0m\u001b[0m\n\u001b[1;32m   1068\u001b[0m             \u001b[0;32massert\u001b[0m \u001b[0mself\u001b[0m\u001b[0;34m.\u001b[0m\u001b[0m_is_stopped\u001b[0m\u001b[0;34m\u001b[0m\u001b[0;34m\u001b[0m\u001b[0m\n\u001b[0;32m-> 1069\u001b[0;31m         \u001b[0;32melif\u001b[0m \u001b[0mlock\u001b[0m\u001b[0;34m.\u001b[0m\u001b[0macquire\u001b[0m\u001b[0;34m(\u001b[0m\u001b[0mblock\u001b[0m\u001b[0;34m,\u001b[0m \u001b[0mtimeout\u001b[0m\u001b[0;34m)\u001b[0m\u001b[0;34m:\u001b[0m\u001b[0;34m\u001b[0m\u001b[0;34m\u001b[0m\u001b[0m\n\u001b[0m\u001b[1;32m   1070\u001b[0m             \u001b[0mlock\u001b[0m\u001b[0;34m.\u001b[0m\u001b[0mrelease\u001b[0m\u001b[0;34m(\u001b[0m\u001b[0;34m)\u001b[0m\u001b[0;34m\u001b[0m\u001b[0;34m\u001b[0m\u001b[0m\n\u001b[1;32m   1071\u001b[0m             \u001b[0mself\u001b[0m\u001b[0;34m.\u001b[0m\u001b[0m_stop\u001b[0m\u001b[0;34m(\u001b[0m\u001b[0;34m)\u001b[0m\u001b[0;34m\u001b[0m\u001b[0;34m\u001b[0m\u001b[0m\n",
      "\u001b[0;31mKeyboardInterrupt\u001b[0m: "
     ]
    }
   ],
   "source": [
    "# THIS DIDN'T TURN UP ANYTHING AND IT TOOK FOREVER TO RUN\n",
    "# I was trying to see if there were columns where if there was one thing in a certain column there was often another thing in a different column\n",
    "\n",
    "# check for column correspondence by finding rows where the entries in two columns are the same\n",
    "def check(pair, data, counts) :\n",
    "    \n",
    "    # pair is the names of the two columns we're checkinf for 'correspondence'\n",
    "    \n",
    "    corr_rows = {}\n",
    "    \n",
    "    # find corresponding ones\n",
    "    for index in data[[pair[0],pair[1]]].dropna().index: \n",
    "        \n",
    "        # key is the entries in both columns at a particular row, concatenated together with a '__' in between\n",
    "        key = str(data[pair[0]].iat[index]) + \"__\" + str(data[pair[1]].iat[index])\n",
    "        \n",
    "        # adds row to corr_rows under that key\n",
    "        if key in corr_rows:\n",
    "            corr_rows[key].append(index)\n",
    "        else :\n",
    "            corr_rows[key] = [index]\n",
    "    \n",
    "    # check against counts so that we don't count values that show up frequently in both columns anyway\n",
    "    del_keys = []\n",
    "    for key in corr_rows:\n",
    "        \n",
    "        vals = key.split('__')\n",
    "        \n",
    "        prob_freq = counts[pair[0]][vals[0]] * counts[pair[1]][vals[1]] * len(data)\n",
    "        \n",
    "        if (len(corr_rows[key]) < prob_freq*1.1) :\n",
    "            del_keys.append(key)\n",
    "    \n",
    "    for key in del_keys:\n",
    "        corr_rows.pop(key)\n",
    "    \n",
    "    return corr_rows\n",
    "\n",
    "###################################################\n",
    "\n",
    "from itertools import combinations\n",
    "\n",
    "# every single combination of columns, yikes\n",
    "pairs = [combo for combo in combinations(data.columns, 2)]\n",
    "\n",
    "import concurrent.futures\n",
    "\n",
    "corr_cols = {}\n",
    "\n",
    "# count how many times each value occurs in the column\n",
    "counts = {}\n",
    "for col in data.columns:\n",
    "    counts[col] = {}\n",
    "    for cell in data[col].dropna():\n",
    "        counts[col][str(cell)] = counts[col].get(str(cell), 0) + 1\n",
    "\n",
    "with concurrent.futures.ThreadPoolExecutor(max_workers=10) as executor:\n",
    "    future_to_pair = {executor.submit(check, pair, data, counts) : pair for pair in pairs}\n",
    "    for future in concurrent.futures.as_completed(future_to_pair):\n",
    "        corr_rows = future.result()\n",
    "        if len(corr_rows) > 0:\n",
    "            pair = future_to_pair[future]\n",
    "            pair_name = pair[0] + \"__\" + pair[1]\n",
    "            corr_cols[pair_name] = str(len(corr_rows))\n",
    "            print(f'{pair_name} : {corr_cols[pair_name]}')"
   ]
  },
  {
   "cell_type": "code",
   "execution_count": null,
   "id": "f84b1d72-4e61-4bcf-9955-11d650968931",
   "metadata": {},
   "outputs": [],
   "source": []
  }
 ],
 "metadata": {
  "kernelspec": {
   "display_name": "Python 3.8.9 64-bit",
   "language": "python",
   "name": "python3"
  },
  "language_info": {
   "codemirror_mode": {
    "name": "ipython",
    "version": 3
   },
   "file_extension": ".py",
   "mimetype": "text/x-python",
   "name": "python",
   "nbconvert_exporter": "python",
   "pygments_lexer": "ipython3",
   "version": "3.8.9"
  },
  "vscode": {
   "interpreter": {
    "hash": "31f2aee4e71d21fbe5cf8b01ff0e069b9275f58929596ceb00d14d90e3e16cd6"
   }
  }
 },
 "nbformat": 4,
 "nbformat_minor": 5
}
